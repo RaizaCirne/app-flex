{
  "nbformat": 4,
  "nbformat_minor": 0,
  "metadata": {
    "colab": {
      "provenance": [],
      "authorship_tag": "ABX9TyOpxW2yUElYDP8UJ7JVttEz",
      "include_colab_link": true
    },
    "kernelspec": {
      "name": "python3",
      "display_name": "Python 3"
    },
    "language_info": {
      "name": "python"
    }
  },
  "cells": [
    {
      "cell_type": "markdown",
      "metadata": {
        "id": "view-in-github",
        "colab_type": "text"
      },
      "source": [
        "<a href=\"https://colab.research.google.com/github/RaizaCirne/Desenvolvimento-Full-Stack-Estacio/blob/main/Miss%C3%A3o_Pr%C3%A1tica_N2_Dev_Full_Stack.ipynb\" target=\"_parent\"><img src=\"https://colab.research.google.com/assets/colab-badge.svg\" alt=\"Open In Colab\"/></a>"
      ]
    },
    {
      "cell_type": "code",
      "execution_count": null,
      "metadata": {
        "id": "Hh82g_70sdwo"
      },
      "outputs": [],
      "source": [
        "num = eval(input('Informe o número inteiro desejado: '))\n",
        "n = num\n",
        "resultadodiv = 1\n",
        "lista = []\n",
        "\n",
        "while resultadodiv >= 1:\n",
        "    resto = num % 2\n",
        "    lista.insert(0, resto)\n",
        "    resultadodiv = num // 2\n",
        "    num = resultadodiv\n",
        "\n",
        "binario = ''.join([str(item) for item in lista])\n",
        "print('O número {} vale {} na base binária'.format(n, binario))"
      ]
    }
  ]
}