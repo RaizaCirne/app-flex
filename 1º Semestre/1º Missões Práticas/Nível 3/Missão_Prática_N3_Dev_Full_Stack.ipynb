{
  "nbformat": 4,
  "nbformat_minor": 0,
  "metadata": {
    "colab": {
      "provenance": [],
      "authorship_tag": "ABX9TyM8TN0J63qy0xC/9WfMSB6v",
      "include_colab_link": true
    },
    "kernelspec": {
      "name": "python3",
      "display_name": "Python 3"
    },
    "language_info": {
      "name": "python"
    }
  },
  "cells": [
    {
      "cell_type": "markdown",
      "metadata": {
        "id": "view-in-github",
        "colab_type": "text"
      },
      "source": [
        "<a href=\"https://colab.research.google.com/github/RaizaCirne/Desenvolvimento-Full-Stack-Estacio/blob/main/Miss%C3%A3o_Pr%C3%A1tica_N3_Dev_Full_Stack.ipynb\" target=\"_parent\"><img src=\"https://colab.research.google.com/assets/colab-badge.svg\" alt=\"Open In Colab\"/></a>"
      ]
    },
    {
      "cell_type": "code",
      "execution_count": null,
      "metadata": {
        "id": "Yj-9HuqarOzl"
      },
      "outputs": [],
      "source": [
        "#Função: Cálculo de subconjuntos\n",
        "\n",
        "def subConj(n):\n",
        "    return subConj_recursivo([], sorted(n))\n",
        "\n",
        "\n",
        "def subConj_recursivo(atual, conj):\n",
        "    if conj:\n",
        "        return subConj_recursivo(atual, conj[1:]) + subConj_recursivo(atual + [conj[0]], conj[1:])\n",
        "    return [atual]\n"
      ]
    },
    {
      "cell_type": "code",
      "source": [
        "#Entrada de Dados\n",
        "n = [1, 2, 3]\n",
        "resultado = subConj(n)\n",
        "\n",
        "print('O número de elementos do conjunto {} é {}'.format(n, len(resultado)))\n",
        "print('As partes do conjunto {} são: {}'.format(n, resultado))"
      ],
      "metadata": {
        "colab": {
          "base_uri": "https://localhost:8080/"
        },
        "id": "8LT1_w5kuRed",
        "outputId": "666a8da4-7e7b-4ae8-8f42-5969c2f9d260"
      },
      "execution_count": null,
      "outputs": [
        {
          "output_type": "stream",
          "name": "stdout",
          "text": [
            "O número de elementos do conjunto [1, 2, 3] é 8\n",
            "As partes do conjunto [1, 2, 3] são: [[], [3], [2], [2, 3], [1], [1, 3], [1, 2], [1, 2, 3]]\n"
          ]
        }
      ]
    }
  ]
}