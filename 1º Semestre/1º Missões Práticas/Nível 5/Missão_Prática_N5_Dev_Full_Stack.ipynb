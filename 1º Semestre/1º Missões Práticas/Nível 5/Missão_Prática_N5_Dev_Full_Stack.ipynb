{
  "nbformat": 4,
  "nbformat_minor": 0,
  "metadata": {
    "colab": {
      "provenance": [],
      "authorship_tag": "ABX9TyMJ46NDYV7seY6RwHw3jBC6",
      "include_colab_link": true
    },
    "kernelspec": {
      "name": "python3",
      "display_name": "Python 3"
    },
    "language_info": {
      "name": "python"
    }
  },
  "cells": [
    {
      "cell_type": "markdown",
      "metadata": {
        "id": "view-in-github",
        "colab_type": "text"
      },
      "source": [
        "<a href=\"https://colab.research.google.com/github/RaizaCirne/Desenvolvimento-Full-Stack-Estacio/blob/main/Miss%C3%A3o_Pr%C3%A1tica_N5_Dev_Full_Stack.ipynb\" target=\"_parent\"><img src=\"https://colab.research.google.com/assets/colab-badge.svg\" alt=\"Open In Colab\"/></a>"
      ]
    },
    {
      "cell_type": "markdown",
      "source": [
        "<center>\n",
        "\n",
        "![logo-estacio.png](data:image/png;base64,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)\n",
        "\n",
        "\n",
        "---\n",
        "\n",
        "\n",
        "---\n",
        "\n",
        "\n",
        "**Campus:** Polo Ead São Pedro da Aldeia/RJ \n",
        "\n",
        "**Curso:** Desenvolvimento Full Stack \n",
        "\n",
        "**Disciplina:** Nível 5: Colocando Tudo em Ordem e Guardando \n",
        "\n",
        "**Número da Turma:** 22.3\n",
        "\n",
        "**Semestre Letivo:** 1º Semestre \n",
        "\n",
        "**Nome:** Raíza Cirne Braz \n",
        "\n",
        "**Matrícula:** 202208291392</center>\n",
        "\n",
        "---\n",
        "\n",
        "\n",
        "---\n",
        "\n",
        "\n",
        "\n",
        "\n",
        "\n",
        "\n"
      ],
      "metadata": {
        "id": "5twYl0EXAe0D"
      }
    },
    {
      "cell_type": "markdown",
      "source": [
        "**1) Título**\n",
        "\n",
        "Implementação de um programa para manipular dados de um arquivo texto e visualizá-los em um histograma e nuvem de palavras.\n",
        "\n",
        "\n",
        "\n",
        "---\n",
        "\n"
      ],
      "metadata": {
        "id": "5DF50RIrCKpl"
      }
    },
    {
      "cell_type": "markdown",
      "source": [
        "**2) Objetivo da Prática**\n",
        "\n",
        "2.1 Gravar e recuperar dados de arquivos textos \\\n",
        "\n",
        "2.2 Manipular os dados para visualizá-los em um histograma \\\n",
        "\n",
        "2.3 Manipular os dados para visualizá-los em uma nuvem de palavras \\\n",
        "\n",
        "2.4 Implementar um programa para gerar dados com nomes de pessoas e respectivas pontuações, gravar em um arquivo, recuperar os dados do arquivo, visualizar os dados das pontuações das pessoas em um histograma e em uma nuvem de palavras.\n",
        "\n",
        "\n",
        "\n",
        "---\n",
        "\n",
        "\n"
      ],
      "metadata": {
        "id": "GTbAQnM0CSiW"
      }
    },
    {
      "cell_type": "markdown",
      "source": [
        "#Instalação de Pacotes\n",
        "\n",
        "\n",
        "---\n",
        "\n"
      ],
      "metadata": {
        "id": "H3Pm_11GDEiD"
      }
    },
    {
      "cell_type": "code",
      "source": [
        "pip install faker -q"
      ],
      "metadata": {
        "colab": {
          "base_uri": "https://localhost:8080/"
        },
        "id": "6P3s2g5NUyLd",
        "outputId": "c86fc8e6-efea-4ba3-9440-121ed01ff21f"
      },
      "execution_count": null,
      "outputs": [
        {
          "output_type": "stream",
          "name": "stdout",
          "text": [
            "\u001b[?25l\r\u001b[K     |▏                               | 10 kB 20.2 MB/s eta 0:00:01\r\u001b[K     |▍                               | 20 kB 23.9 MB/s eta 0:00:01\r\u001b[K     |▋                               | 30 kB 29.7 MB/s eta 0:00:01\r\u001b[K     |▉                               | 40 kB 22.6 MB/s eta 0:00:01\r\u001b[K     |█                               | 51 kB 25.1 MB/s eta 0:00:01\r\u001b[K     |█▏                              | 61 kB 27.7 MB/s eta 0:00:01\r\u001b[K     |█▍                              | 71 kB 20.3 MB/s eta 0:00:01\r\u001b[K     |█▋                              | 81 kB 20.7 MB/s eta 0:00:01\r\u001b[K     |█▉                              | 92 kB 22.1 MB/s eta 0:00:01\r\u001b[K     |██                              | 102 kB 23.6 MB/s eta 0:00:01\r\u001b[K     |██▏                             | 112 kB 23.6 MB/s eta 0:00:01\r\u001b[K     |██▍                             | 122 kB 23.6 MB/s eta 0:00:01\r\u001b[K     |██▋                             | 133 kB 23.6 MB/s eta 0:00:01\r\u001b[K     |██▉                             | 143 kB 23.6 MB/s eta 0:00:01\r\u001b[K     |███                             | 153 kB 23.6 MB/s eta 0:00:01\r\u001b[K     |███▏                            | 163 kB 23.6 MB/s eta 0:00:01\r\u001b[K     |███▍                            | 174 kB 23.6 MB/s eta 0:00:01\r\u001b[K     |███▋                            | 184 kB 23.6 MB/s eta 0:00:01\r\u001b[K     |███▉                            | 194 kB 23.6 MB/s eta 0:00:01\r\u001b[K     |████                            | 204 kB 23.6 MB/s eta 0:00:01\r\u001b[K     |████▏                           | 215 kB 23.6 MB/s eta 0:00:01\r\u001b[K     |████▍                           | 225 kB 23.6 MB/s eta 0:00:01\r\u001b[K     |████▋                           | 235 kB 23.6 MB/s eta 0:00:01\r\u001b[K     |████▉                           | 245 kB 23.6 MB/s eta 0:00:01\r\u001b[K     |█████                           | 256 kB 23.6 MB/s eta 0:00:01\r\u001b[K     |█████▏                          | 266 kB 23.6 MB/s eta 0:00:01\r\u001b[K     |█████▍                          | 276 kB 23.6 MB/s eta 0:00:01\r\u001b[K     |█████▋                          | 286 kB 23.6 MB/s eta 0:00:01\r\u001b[K     |█████▉                          | 296 kB 23.6 MB/s eta 0:00:01\r\u001b[K     |██████                          | 307 kB 23.6 MB/s eta 0:00:01\r\u001b[K     |██████▏                         | 317 kB 23.6 MB/s eta 0:00:01\r\u001b[K     |██████▍                         | 327 kB 23.6 MB/s eta 0:00:01\r\u001b[K     |██████▋                         | 337 kB 23.6 MB/s eta 0:00:01\r\u001b[K     |██████▉                         | 348 kB 23.6 MB/s eta 0:00:01\r\u001b[K     |███████                         | 358 kB 23.6 MB/s eta 0:00:01\r\u001b[K     |███████▏                        | 368 kB 23.6 MB/s eta 0:00:01\r\u001b[K     |███████▍                        | 378 kB 23.6 MB/s eta 0:00:01\r\u001b[K     |███████▋                        | 389 kB 23.6 MB/s eta 0:00:01\r\u001b[K     |███████▉                        | 399 kB 23.6 MB/s eta 0:00:01\r\u001b[K     |████████                        | 409 kB 23.6 MB/s eta 0:00:01\r\u001b[K     |████████▏                       | 419 kB 23.6 MB/s eta 0:00:01\r\u001b[K     |████████▍                       | 430 kB 23.6 MB/s eta 0:00:01\r\u001b[K     |████████▋                       | 440 kB 23.6 MB/s eta 0:00:01\r\u001b[K     |████████▉                       | 450 kB 23.6 MB/s eta 0:00:01\r\u001b[K     |█████████                       | 460 kB 23.6 MB/s eta 0:00:01\r\u001b[K     |█████████▏                      | 471 kB 23.6 MB/s eta 0:00:01\r\u001b[K     |█████████▍                      | 481 kB 23.6 MB/s eta 0:00:01\r\u001b[K     |█████████▋                      | 491 kB 23.6 MB/s eta 0:00:01\r\u001b[K     |█████████▉                      | 501 kB 23.6 MB/s eta 0:00:01\r\u001b[K     |██████████                      | 512 kB 23.6 MB/s eta 0:00:01\r\u001b[K     |██████████▏                     | 522 kB 23.6 MB/s eta 0:00:01\r\u001b[K     |██████████▍                     | 532 kB 23.6 MB/s eta 0:00:01\r\u001b[K     |██████████▋                     | 542 kB 23.6 MB/s eta 0:00:01\r\u001b[K     |██████████▉                     | 552 kB 23.6 MB/s eta 0:00:01\r\u001b[K     |███████████                     | 563 kB 23.6 MB/s eta 0:00:01\r\u001b[K     |███████████▏                    | 573 kB 23.6 MB/s eta 0:00:01\r\u001b[K     |███████████▍                    | 583 kB 23.6 MB/s eta 0:00:01\r\u001b[K     |███████████▋                    | 593 kB 23.6 MB/s eta 0:00:01\r\u001b[K     |███████████▉                    | 604 kB 23.6 MB/s eta 0:00:01\r\u001b[K     |████████████                    | 614 kB 23.6 MB/s eta 0:00:01\r\u001b[K     |████████████▏                   | 624 kB 23.6 MB/s eta 0:00:01\r\u001b[K     |████████████▍                   | 634 kB 23.6 MB/s eta 0:00:01\r\u001b[K     |████████████▋                   | 645 kB 23.6 MB/s eta 0:00:01\r\u001b[K     |████████████▉                   | 655 kB 23.6 MB/s eta 0:00:01\r\u001b[K     |█████████████                   | 665 kB 23.6 MB/s eta 0:00:01\r\u001b[K     |█████████████▏                  | 675 kB 23.6 MB/s eta 0:00:01\r\u001b[K     |█████████████▍                  | 686 kB 23.6 MB/s eta 0:00:01\r\u001b[K     |█████████████▋                  | 696 kB 23.6 MB/s eta 0:00:01\r\u001b[K     |█████████████▊                  | 706 kB 23.6 MB/s eta 0:00:01\r\u001b[K     |██████████████                  | 716 kB 23.6 MB/s eta 0:00:01\r\u001b[K     |██████████████▏                 | 727 kB 23.6 MB/s eta 0:00:01\r\u001b[K     |██████████████▍                 | 737 kB 23.6 MB/s eta 0:00:01\r\u001b[K     |██████████████▋                 | 747 kB 23.6 MB/s eta 0:00:01\r\u001b[K     |██████████████▊                 | 757 kB 23.6 MB/s eta 0:00:01\r\u001b[K     |███████████████                 | 768 kB 23.6 MB/s eta 0:00:01\r\u001b[K     |███████████████▏                | 778 kB 23.6 MB/s eta 0:00:01\r\u001b[K     |███████████████▍                | 788 kB 23.6 MB/s eta 0:00:01\r\u001b[K     |███████████████▋                | 798 kB 23.6 MB/s eta 0:00:01\r\u001b[K     |███████████████▊                | 808 kB 23.6 MB/s eta 0:00:01\r\u001b[K     |████████████████                | 819 kB 23.6 MB/s eta 0:00:01\r\u001b[K     |████████████████▏               | 829 kB 23.6 MB/s eta 0:00:01\r\u001b[K     |████████████████▍               | 839 kB 23.6 MB/s eta 0:00:01\r\u001b[K     |████████████████▋               | 849 kB 23.6 MB/s eta 0:00:01\r\u001b[K     |████████████████▊               | 860 kB 23.6 MB/s eta 0:00:01\r\u001b[K     |█████████████████               | 870 kB 23.6 MB/s eta 0:00:01\r\u001b[K     |█████████████████▏              | 880 kB 23.6 MB/s eta 0:00:01\r\u001b[K     |█████████████████▍              | 890 kB 23.6 MB/s eta 0:00:01\r\u001b[K     |█████████████████▋              | 901 kB 23.6 MB/s eta 0:00:01\r\u001b[K     |█████████████████▊              | 911 kB 23.6 MB/s eta 0:00:01\r\u001b[K     |██████████████████              | 921 kB 23.6 MB/s eta 0:00:01\r\u001b[K     |██████████████████▏             | 931 kB 23.6 MB/s eta 0:00:01\r\u001b[K     |██████████████████▍             | 942 kB 23.6 MB/s eta 0:00:01\r\u001b[K     |██████████████████▋             | 952 kB 23.6 MB/s eta 0:00:01\r\u001b[K     |██████████████████▊             | 962 kB 23.6 MB/s eta 0:00:01\r\u001b[K     |███████████████████             | 972 kB 23.6 MB/s eta 0:00:01\r\u001b[K     |███████████████████▏            | 983 kB 23.6 MB/s eta 0:00:01\r\u001b[K     |███████████████████▍            | 993 kB 23.6 MB/s eta 0:00:01\r\u001b[K     |███████████████████▋            | 1.0 MB 23.6 MB/s eta 0:00:01\r\u001b[K     |███████████████████▊            | 1.0 MB 23.6 MB/s eta 0:00:01\r\u001b[K     |████████████████████            | 1.0 MB 23.6 MB/s eta 0:00:01\r\u001b[K     |████████████████████▏           | 1.0 MB 23.6 MB/s eta 0:00:01\r\u001b[K     |████████████████████▍           | 1.0 MB 23.6 MB/s eta 0:00:01\r\u001b[K     |████████████████████▋           | 1.1 MB 23.6 MB/s eta 0:00:01\r\u001b[K     |████████████████████▊           | 1.1 MB 23.6 MB/s eta 0:00:01\r\u001b[K     |█████████████████████           | 1.1 MB 23.6 MB/s eta 0:00:01\r\u001b[K     |█████████████████████▏          | 1.1 MB 23.6 MB/s eta 0:00:01\r\u001b[K     |█████████████████████▍          | 1.1 MB 23.6 MB/s eta 0:00:01\r\u001b[K     |█████████████████████▋          | 1.1 MB 23.6 MB/s eta 0:00:01\r\u001b[K     |█████████████████████▊          | 1.1 MB 23.6 MB/s eta 0:00:01\r\u001b[K     |██████████████████████          | 1.1 MB 23.6 MB/s eta 0:00:01\r\u001b[K     |██████████████████████▏         | 1.1 MB 23.6 MB/s eta 0:00:01\r\u001b[K     |██████████████████████▍         | 1.1 MB 23.6 MB/s eta 0:00:01\r\u001b[K     |██████████████████████▋         | 1.2 MB 23.6 MB/s eta 0:00:01\r\u001b[K     |██████████████████████▊         | 1.2 MB 23.6 MB/s eta 0:00:01\r\u001b[K     |███████████████████████         | 1.2 MB 23.6 MB/s eta 0:00:01\r\u001b[K     |███████████████████████▏        | 1.2 MB 23.6 MB/s eta 0:00:01\r\u001b[K     |███████████████████████▍        | 1.2 MB 23.6 MB/s eta 0:00:01\r\u001b[K     |███████████████████████▋        | 1.2 MB 23.6 MB/s eta 0:00:01\r\u001b[K     |███████████████████████▊        | 1.2 MB 23.6 MB/s eta 0:00:01\r\u001b[K     |████████████████████████        | 1.2 MB 23.6 MB/s eta 0:00:01\r\u001b[K     |████████████████████████▏       | 1.2 MB 23.6 MB/s eta 0:00:01\r\u001b[K     |████████████████████████▍       | 1.2 MB 23.6 MB/s eta 0:00:01\r\u001b[K     |████████████████████████▋       | 1.3 MB 23.6 MB/s eta 0:00:01\r\u001b[K     |████████████████████████▊       | 1.3 MB 23.6 MB/s eta 0:00:01\r\u001b[K     |█████████████████████████       | 1.3 MB 23.6 MB/s eta 0:00:01\r\u001b[K     |█████████████████████████▏      | 1.3 MB 23.6 MB/s eta 0:00:01\r\u001b[K     |█████████████████████████▍      | 1.3 MB 23.6 MB/s eta 0:00:01\r\u001b[K     |█████████████████████████▋      | 1.3 MB 23.6 MB/s eta 0:00:01\r\u001b[K     |█████████████████████████▊      | 1.3 MB 23.6 MB/s eta 0:00:01\r\u001b[K     |██████████████████████████      | 1.3 MB 23.6 MB/s eta 0:00:01\r\u001b[K     |██████████████████████████▏     | 1.3 MB 23.6 MB/s eta 0:00:01\r\u001b[K     |██████████████████████████▍     | 1.4 MB 23.6 MB/s eta 0:00:01\r\u001b[K     |██████████████████████████▌     | 1.4 MB 23.6 MB/s eta 0:00:01\r\u001b[K     |██████████████████████████▊     | 1.4 MB 23.6 MB/s eta 0:00:01\r\u001b[K     |███████████████████████████     | 1.4 MB 23.6 MB/s eta 0:00:01\r\u001b[K     |███████████████████████████▏    | 1.4 MB 23.6 MB/s eta 0:00:01\r\u001b[K     |███████████████████████████▍    | 1.4 MB 23.6 MB/s eta 0:00:01\r\u001b[K     |███████████████████████████▌    | 1.4 MB 23.6 MB/s eta 0:00:01\r\u001b[K     |███████████████████████████▊    | 1.4 MB 23.6 MB/s eta 0:00:01\r\u001b[K     |████████████████████████████    | 1.4 MB 23.6 MB/s eta 0:00:01\r\u001b[K     |████████████████████████████▏   | 1.4 MB 23.6 MB/s eta 0:00:01\r\u001b[K     |████████████████████████████▍   | 1.5 MB 23.6 MB/s eta 0:00:01\r\u001b[K     |████████████████████████████▌   | 1.5 MB 23.6 MB/s eta 0:00:01\r\u001b[K     |████████████████████████████▊   | 1.5 MB 23.6 MB/s eta 0:00:01\r\u001b[K     |█████████████████████████████   | 1.5 MB 23.6 MB/s eta 0:00:01\r\u001b[K     |█████████████████████████████▏  | 1.5 MB 23.6 MB/s eta 0:00:01\r\u001b[K     |█████████████████████████████▍  | 1.5 MB 23.6 MB/s eta 0:00:01\r\u001b[K     |█████████████████████████████▌  | 1.5 MB 23.6 MB/s eta 0:00:01\r\u001b[K     |█████████████████████████████▊  | 1.5 MB 23.6 MB/s eta 0:00:01\r\u001b[K     |██████████████████████████████  | 1.5 MB 23.6 MB/s eta 0:00:01\r\u001b[K     |██████████████████████████████▏ | 1.5 MB 23.6 MB/s eta 0:00:01\r\u001b[K     |██████████████████████████████▍ | 1.6 MB 23.6 MB/s eta 0:00:01\r\u001b[K     |██████████████████████████████▌ | 1.6 MB 23.6 MB/s eta 0:00:01\r\u001b[K     |██████████████████████████████▊ | 1.6 MB 23.6 MB/s eta 0:00:01\r\u001b[K     |███████████████████████████████ | 1.6 MB 23.6 MB/s eta 0:00:01\r\u001b[K     |███████████████████████████████▏| 1.6 MB 23.6 MB/s eta 0:00:01\r\u001b[K     |███████████████████████████████▍| 1.6 MB 23.6 MB/s eta 0:00:01\r\u001b[K     |███████████████████████████████▌| 1.6 MB 23.6 MB/s eta 0:00:01\r\u001b[K     |███████████████████████████████▊| 1.6 MB 23.6 MB/s eta 0:00:01\r\u001b[K     |████████████████████████████████| 1.6 MB 23.6 MB/s eta 0:00:01\r\u001b[K     |████████████████████████████████| 1.6 MB 23.6 MB/s \n",
            "\u001b[?25h"
          ]
        }
      ]
    },
    {
      "cell_type": "code",
      "source": [
        "pip install wordcloud -q"
      ],
      "metadata": {
        "id": "92BkhCpwUSAt"
      },
      "execution_count": null,
      "outputs": []
    },
    {
      "cell_type": "code",
      "source": [
        "pip install num2words -q"
      ],
      "metadata": {
        "colab": {
          "base_uri": "https://localhost:8080/"
        },
        "id": "aw0wqOPfUVtd",
        "outputId": "83a455f0-0e68-447e-9f39-4894c77f4e01"
      },
      "execution_count": null,
      "outputs": [
        {
          "output_type": "stream",
          "name": "stdout",
          "text": [
            "\u001b[?25l\r\u001b[K     |██▋                             | 10 kB 20.3 MB/s eta 0:00:01\r\u001b[K     |█████▎                          | 20 kB 22.9 MB/s eta 0:00:01\r\u001b[K     |███████▉                        | 30 kB 29.3 MB/s eta 0:00:01\r\u001b[K     |██████████▌                     | 40 kB 25.9 MB/s eta 0:00:01\r\u001b[K     |█████████████                   | 51 kB 28.4 MB/s eta 0:00:01\r\u001b[K     |███████████████▊                | 61 kB 32.2 MB/s eta 0:00:01\r\u001b[K     |██████████████████▎             | 71 kB 28.2 MB/s eta 0:00:01\r\u001b[K     |█████████████████████           | 81 kB 30.0 MB/s eta 0:00:01\r\u001b[K     |███████████████████████▌        | 92 kB 31.2 MB/s eta 0:00:01\r\u001b[K     |██████████████████████████▏     | 102 kB 33.0 MB/s eta 0:00:01\r\u001b[K     |████████████████████████████▉   | 112 kB 33.0 MB/s eta 0:00:01\r\u001b[K     |███████████████████████████████▍| 122 kB 33.0 MB/s eta 0:00:01\r\u001b[K     |████████████████████████████████| 125 kB 33.0 MB/s \n",
            "\u001b[?25h  Building wheel for docopt (setup.py) ... \u001b[?25l\u001b[?25hdone\n"
          ]
        }
      ]
    },
    {
      "cell_type": "markdown",
      "source": [
        "#Bibliotecas\n",
        "\n",
        "\n",
        "---\n",
        "\n"
      ],
      "metadata": {
        "id": "lUo-VsmySjY-"
      }
    },
    {
      "cell_type": "code",
      "source": [
        "import matplotlib.pyplot as plt\n",
        "from faker import Faker\n",
        "from wordcloud import WordCloud\n",
        "from num2words import num2words\n",
        "from datetime import datetime\n",
        "import numpy as np\n",
        "import pandas as pd"
      ],
      "metadata": {
        "id": "sT2WbOYHSolR"
      },
      "execution_count": null,
      "outputs": []
    },
    {
      "cell_type": "markdown",
      "source": [
        "#Lista\n",
        "\n",
        "\n",
        "---\n",
        "\n"
      ],
      "metadata": {
        "id": "h-uqu_u1Gh4g"
      }
    },
    {
      "cell_type": "code",
      "source": [
        "dados_aleatorios = Faker('pt_BR')\n",
        "dados_lista = []\n",
        "notas = []\n",
        "nomes = []"
      ],
      "metadata": {
        "id": "Lw4rseLfRdrT"
      },
      "execution_count": null,
      "outputs": []
    },
    {
      "cell_type": "markdown",
      "source": [
        "#Gravação de Dados em arquivo\n",
        "\n",
        "\n",
        "---\n",
        "\n"
      ],
      "metadata": {
        "id": "00fXdJeZSBkK"
      }
    },
    {
      "cell_type": "code",
      "source": [
        "for i in range(20):\n",
        "\n",
        "    \n",
        "    dados = ('Nome: ' + dados_aleatorios.name() + ' - ' + 'Nota: '  + str(dados_aleatorios.random_int(1,10)))\n",
        "    dados_lista.append(dados)\n",
        "\n",
        "with open('Dados.txt', 'w', encoding='utf-8') as arquivo:\n",
        "  for valor in dados_lista:\n",
        "    arquivo.write(valor +  '\\n')"
      ],
      "metadata": {
        "id": "fpRdJaQhTsbH"
      },
      "execution_count": null,
      "outputs": []
    },
    {
      "cell_type": "markdown",
      "source": [
        "#Recuperando dados do arquivo\n",
        "\n",
        "\n",
        "---\n",
        "\n"
      ],
      "metadata": {
        "id": "i-xsmmkgTwJ3"
      }
    },
    {
      "cell_type": "code",
      "source": [
        "with open('Dados.txt', 'r', encoding='utf-8') as arquivo_recuperar:\n",
        "    for i in range (len(dados_lista)):\n",
        "        ler = arquivo_recuperar.readline() \n",
        "        separar_notas = ler.split(' ')\n",
        "        nota = int(separar_notas[-1])\n",
        "        notas.append(nota) \n",
        "        nomes_2 = num2words(nota, lang= 'pt_BR') \n",
        "        nomes.append(nomes_2) \n",
        "        nome_str = (' ').join(nomes)"
      ],
      "metadata": {
        "id": "_fhzxluJT4lO"
      },
      "execution_count": null,
      "outputs": []
    },
    {
      "cell_type": "markdown",
      "source": [
        "#Histograma \n",
        "\n",
        "\n",
        "---\n",
        "\n"
      ],
      "metadata": {
        "id": "Mr3KtRrIT_0f"
      }
    },
    {
      "cell_type": "code",
      "source": [
        "plt.title('Histograma das Pontuações')\n",
        "plt.xlabel('Pontuações')\n",
        "plt.ylabel('Probabilidade')\n",
        "plt.hist(notas,  density=True, facecolor='lightgreen', rwidth=0.80) \n",
        "plt.show()"
      ],
      "metadata": {
        "colab": {
          "base_uri": "https://localhost:8080/",
          "height": 295
        },
        "id": "xadbDm97UCAI",
        "outputId": "e61084b5-bced-404e-f16c-42f5f5a3a5db"
      },
      "execution_count": null,
      "outputs": [
        {
          "output_type": "display_data",
          "data": {
            "text/plain": [
              "<Figure size 432x288 with 1 Axes>"
            ],
            "image/png": "[encoded data removed]"
          },
          "metadata": {
            "needs_background": "light"
          }
        }
      ]
    },
    {
      "cell_type": "markdown",
      "source": [
        "#Nuvem de palavras \n",
        "\n",
        "\n",
        "---\n",
        "\n"
      ],
      "metadata": {
        "id": "MlxDRrSFUGQl"
      }
    },
    {
      "cell_type": "code",
      "source": [
        "nuvem_palavras = WordCloud(background_color='Pink', width=500,height=300).generate(nome_str)\n",
        "plt.imshow(nuvem_palavras, interpolation='bilinear')\n",
        "plt.axis(\"off\")\n",
        "plt.show()\n",
        "nuvem_palavras.to_file(\"Nuvem de palavras.png\")"
      ],
      "metadata": {
        "colab": {
          "base_uri": "https://localhost:8080/",
          "height": 249
        },
        "id": "F4lHrZZbUIcK",
        "outputId": "3f4d52a5-4437-4219-b958-66ca774b1a1a"
      },
      "execution_count": null,
      "outputs": [
        {
          "output_type": "display_data",
          "data": {
            "text/plain": [
              "<Figure size 432x288 with 1 Axes>"
            ],
            "image/png": "[encoded data removed]"
          },
          "metadata": {
            "needs_background": "light"
          }
        },
        {
          "output_type": "execute_result",
          "data": {
            "text/plain": [
              "<wordcloud.wordcloud.WordCloud at 0x7fa4a5a63e50>"
            ]
          },
          "metadata": {},
          "execution_count": 12
        }
      ]
    },
    {
      "cell_type": "markdown",
      "source": [
        "\n",
        "\n",
        "---\n",
        "\n",
        "\n",
        "#Relatório\n",
        "\n",
        "\n",
        "---\n",
        "\n",
        "\n",
        "\n",
        "\n",
        "\n"
      ],
      "metadata": {
        "id": "i7sva5GXmUSO"
      }
    },
    {
      "cell_type": "markdown",
      "source": [
        "##Análise e Conclusão:"
      ],
      "metadata": {
        "id": "Qj_vyWHDmb2A"
      }
    },
    {
      "cell_type": "markdown",
      "source": [
        "###a. Qual a importância de manipular arquivos de texto?\n",
        "\n",
        "O sistema de arquivos executa diversas tarefas utilizando arquivos. Saber manipular dados de arquivos de textos é importante, pois além de armazenar, ler dados, podemos utilizar como arquivo de memória de interface e pegar informações da nuvem que são gravadas. Além disso, são leves, portanto, é possível gravar, ler com facilidade e utilizar informações rapidamente nos bancos de dados. "
      ],
      "metadata": {
        "id": "zW5bsxIQm1e8"
      }
    },
    {
      "cell_type": "markdown",
      "source": [
        "###b. Qual a importância de visualizar dados em um histograma?\n",
        "\n",
        "O histograma nos mostra uma distribuição dos valores e seu comportamento. Com ele conseguimos juntar dados em grupos ou categorias, o que facilita a visualização, sobretudo, quado temos um grupo volumoso de dados. "
      ],
      "metadata": {
        "id": "sjazk5e0nFH9"
      }
    },
    {
      "cell_type": "markdown",
      "source": [
        "###c. O que significa a visualização por nuvem de palavras? \n",
        "\n",
        "É uma imagem que contém diversas palavras que são representadas visualmente. Na nuvem de palavras, o destaque é dado às palavras que aparecem com mais frequência. São muito úteis para análise de texto. \n",
        "\n"
      ],
      "metadata": {
        "id": "R6o5OoefnWql"
      }
    }
  ]
}